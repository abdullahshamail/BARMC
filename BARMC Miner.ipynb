{
 "cells": [
  {
   "cell_type": "code",
   "execution_count": null,
   "metadata": {},
   "outputs": [],
   "source": [
    "# Import all libraries\n",
    "\n",
    "import numpy as np\n",
    "from sklearn.cluster import DBSCAN\n",
    "import pandas as pd\n",
    "\n",
    "from utilities import df_convoys, filterDF, hb_atom_types_in_data\n",
    "\n",
    "from hyperparameters import Hyperparameters\n",
    "import time\n",
    "from BARMCMiner import BARMCMiner\n"
   ]
  },
  {
   "cell_type": "code",
   "execution_count": null,
   "metadata": {},
   "outputs": [],
   "source": [
    "data = np.load(r\"C:\\Users\\ashamail\\OneDrive - Iowa State University\\Molecular Simulation Data\\Parsed Data\\convoy paper\\data\\dcd2-55k-65k-fixed.npy\")\n",
    "\n",
    "fileLocation = r\"C:\\Users\\ashamail\\OneDrive - Iowa State University\\Molecular Simulation Data\\Parsed Data\\convoy paper\\data\\allAtomsWithRings.csv\" #location for information of atoms\n",
    "df = pd.read_csv(fileLocation)\n",
    "\n",
    "\n",
    "nitrogens_and_oxygens_indices = filterDF(df)\n",
    "\n",
    "atomType = hb_atom_types_in_data(df)\n",
    "\n",
    "\n",
    "dataSize = [500]\n",
    "Ks = np.arange(0, 1, 1)\n",
    "Ms = [25]\n",
    "t1s= [2]\n",
    "t2s = [0.25]\n",
    "starterFrames = [379]\n",
    "epsilons = [3.5]\n",
    "\n",
    "\n",
    "for varyk in Ks:\n",
    "    for varyM in Ms:\n",
    "        for size in dataSize:\n",
    "            for t_1 in t1s:\n",
    "                for t_2 in t2s:\n",
    "                    for startingPoint in starterFrames:\n",
    "                        for eps in epsilons:\n",
    "\n",
    "                            hyperParameters = Hyperparameters(m = varyM, k = varyk, epsilon = eps, t1 = t_1,  t2 = t_2, threshold=4)\n",
    "                            print(f\"K {varyk + 1}, M {varyM}, S {size}, t1 = {hyperParameters.t1}, t2 = {hyperParameters.t2}, epsilon = {hyperParameters.epsilon}, threshold = {hyperParameters.threshold}, DATA = {[startingPoint, startingPoint+size]}\")\n",
    "\n",
    "                            currentData = data[startingPoint:startingPoint + size]\n",
    "\n",
    "                            transposedData = currentData.transpose((1, 0, 2)).tolist()\n",
    "                            transposedDataNP = np.array(transposedData)\n",
    "\n",
    "                            totalTime = 0\n",
    "                            t1 = time.time()\n",
    "                            clustering_clf = DBSCAN(eps=hyperParameters.epsilon)\n",
    "\n",
    "                            clf = BARMCMiner(clustering_clf, k=hyperParameters.k, m=hyperParameters.m, t1=hyperParameters.t1, t2 = hyperParameters.t2, data=currentData, threshold=hyperParameters.threshold, df=df, atomType=atomType, nitrogens_and_oxygens_indices=nitrogens_and_oxygens_indices)\n",
    "\n",
    "                            convoys = clf.fit_predict(transposedDataNP)\n",
    "\n",
    "                            sorted_list = sorted(convoys, key=lambda x: x.start_time)\n",
    "                            totalTime += time.time() - t1\n",
    "\n",
    "                            display(df_convoys(sorted_list))\n",
    "                            print(\"Total time\", totalTime)"
   ]
  },
  {
   "cell_type": "code",
   "execution_count": null,
   "metadata": {},
   "outputs": [],
   "source": []
  }
 ],
 "metadata": {
  "kernelspec": {
   "display_name": "drug-polymers",
   "language": "python",
   "name": "python3"
  },
  "language_info": {
   "codemirror_mode": {
    "name": "ipython",
    "version": 3
   },
   "file_extension": ".py",
   "mimetype": "text/x-python",
   "name": "python",
   "nbconvert_exporter": "python",
   "pygments_lexer": "ipython3",
   "version": "3.11.7"
  },
  "orig_nbformat": 4
 },
 "nbformat": 4,
 "nbformat_minor": 2
}
