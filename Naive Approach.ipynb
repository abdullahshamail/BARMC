{
 "cells": [
  {
   "cell_type": "code",
   "execution_count": null,
   "id": "6a1e04cb",
   "metadata": {},
   "outputs": [],
   "source": [
    "# Import all libraries\n",
    "\n",
    "import numpy as np\n",
    "from sklearn.cluster import DBSCAN\n",
    "from UTILS import find_consecutive_instances, hydrogenBondCheckGivenIndices, calculateAtomTypes, BARMCNaive\n",
    "from CMC import CMC\n",
    "from hyperparameters import Hyperparameters\n",
    "import time"
   ]
  },
  {
   "cell_type": "code",
   "execution_count": null,
   "id": "5fc2a628",
   "metadata": {},
   "outputs": [],
   "source": [
    "# # All atoms as input\n",
    "# # Brute Force\n",
    "\n",
    "fileLocation = r\"C:\\Users\\ashamail\\OneDrive - Iowa State University\\Molecular Simulation Data\\Parsed Data\\convoy paper\\data\\allAtomsWithRings.csv\" #location for information of atoms\n",
    "\n",
    "filePath = r\"C:\\Users\\ashamail\\OneDrive - Iowa State University\\Molecular Simulation Data\\Parsed Data\\convoy paper\\data\\dcd2-55k-65k-fixed.npy\"\n",
    "\n",
    "data = np.load(filePath)"
   ]
  },
  {
   "cell_type": "code",
   "execution_count": null,
   "id": "b2e319a7",
   "metadata": {},
   "outputs": [],
   "source": [
    "#define the hyperparameters\n",
    "dataSize = [500]\n",
    "Ks = np.arange(0, 10, 1)\n",
    "Ms = [25]\n",
    "starterFrames = [379]\n",
    "t_1s = [2]\n",
    "t_2s = [0.25]\n",
    "epsilons = [3.5]\n",
    "\n",
    "\n",
    "for varyk in Ks:\n",
    "    for varyM in Ms:\n",
    "        for size in dataSize:\n",
    "            for startFrame in starterFrames:\n",
    "                for t_1 in t_1s:\n",
    "                    for t_2 in t_2s:\n",
    "                        for eps in epsilons:\n",
    "                            hyperParameters = Hyperparameters(m = varyM, k = varyk, epsilon = eps, t1 = t_1,  t2 = t_2, threshold=4)\n",
    "                            data = np.load(filePath)\n",
    "                            print(f\"K {varyk + 1}, M {varyM}, S {size}, t1 = {hyperParameters.t1}, t2 = {hyperParameters.t2}, epsilon = {hyperParameters.epsilon}, threshold = {hyperParameters.threshold}, DATA = {[startFrame, startFrame+size]}\")\n",
    "\n",
    "\n",
    "                            orData = np.transpose(data[0:size], (1,0,2)).tolist()\n",
    "\n",
    "\n",
    "                            totalTime = 0\n",
    "\n",
    "                            t1 = time.time()\n",
    "\n",
    "                            clustering_clf = DBSCAN(eps=hyperParameters.epsilon)\n",
    "\n",
    "\n",
    "\n",
    "                            clf = CMC(clustering_clf, k=hyperParameters.k, m=hyperParameters.m)\n",
    "\n",
    "                            convoys = clf.fit_predict(orData)\n",
    "\n",
    "                            data = data[startFrame:startFrame+size]\n",
    "\n",
    "\n",
    "                            sorted_list = sorted(convoys, key=lambda x: x.start_time)\n",
    "\n",
    "                            atomTypes = calculateAtomTypes(fileLocation)\n",
    "                            finalConvoys = {}\n",
    "                            for index, convoy in enumerate(sorted_list):\n",
    "\n",
    "                                finalConvoys[index] = None\n",
    "\n",
    "                                arr = hydrogenBondCheckGivenIndices(convoy.start_time, convoy.end_time, convoy.indices, data, atomTypes)\n",
    "\n",
    "                                finalConvoys[index] = [arr, convoy]\n",
    "\n",
    "                            for key, (indices, convoy) in finalConvoys.items():\n",
    "\n",
    "                                df_ranges = indices\n",
    "\n",
    "                                consecutive_instances = find_consecutive_instances(df_ranges, hyperParameters.k)\n",
    "\n",
    "                                final = BARMCNaive(consecutive_instances, hyperParameters.t1, hyperParameters.t2, k=hyperParameters.k)\n",
    "\n",
    "                                if not final.empty:\n",
    "                                    total = final['end'] - final['start'] + 1\n",
    "                                    print(f\"Total: {total.sum()}\")\n",
    "                                    display(final.sort_values(by='start'))\n",
    "\n",
    "\n",
    "                            totalTime += time.time() - t1\n",
    "                            print(f\"Total time {totalTime}\")\n",
    "\n"
   ]
  }
 ],
 "metadata": {
  "kernelspec": {
   "display_name": "drug-polymers",
   "language": "python",
   "name": "python3"
  },
  "language_info": {
   "codemirror_mode": {
    "name": "ipython",
    "version": 3
   },
   "file_extension": ".py",
   "mimetype": "text/x-python",
   "name": "python",
   "nbconvert_exporter": "python",
   "pygments_lexer": "ipython3",
   "version": "3.11.7"
  },
  "vscode": {
   "interpreter": {
    "hash": "1ecbca60692fcbcdaa1d2bd5d45a516ce56a1dfd695b1b93ce3c934829eab87d"
   }
  }
 },
 "nbformat": 4,
 "nbformat_minor": 5
}
